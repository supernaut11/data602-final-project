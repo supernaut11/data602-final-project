{
 "metadata": {
  "language_info": {
   "codemirror_mode": {
    "name": "ipython",
    "version": 3
   },
   "file_extension": ".py",
   "mimetype": "text/x-python",
   "name": "python",
   "nbconvert_exporter": "python",
   "pygments_lexer": "ipython3",
   "version": "3.6.9-final"
  },
  "orig_nbformat": 2,
  "kernelspec": {
   "name": "Python 3.6.9 64-bit",
   "display_name": "Python 3.6.9 64-bit",
   "metadata": {
    "interpreter": {
     "hash": "31f2aee4e71d21fbe5cf8b01ff0e069b9275f58929596ceb00d14d90e3e16cd6"
    }
   }
  }
 },
 "nbformat": 4,
 "nbformat_minor": 2,
 "cells": [
  {
   "source": [
    "import pandas\n",
    "\n",
    "pandas.set_option('display.max_columns', None)\n",
    "pandas.set_option('display.max_rows', 25)"
   ],
   "cell_type": "code",
   "metadata": {},
   "execution_count": 1,
   "outputs": []
  },
  {
   "cell_type": "code",
   "execution_count": 12,
   "metadata": {},
   "outputs": [],
   "source": [
    "import os\n",
    "\n",
    "# Set up some variables for the training data paths\n",
    "BASE_DATA_PATH = os.path.join('..', 'data')\n",
    "TRAIN_DATA_PATH = os.path.join(BASE_DATA_PATH, 'train')\n",
    "\n",
    "TRAINING_PROVIDERS_PATH = os.path.join(TRAIN_DATA_PATH, 'Train-1542865627584.csv')\n",
    "TRAINING_INPATIENT_PATH = os.path.join(TRAIN_DATA_PATH, \n",
    "    'Train_Inpatientdata-1542865627584.csv')\n",
    "TRAINING_OUTPATIENT_PATH = os.path.join(TRAIN_DATA_PATH, \n",
    "    'Train_Outpatientdata-1542865627584.csv')\n",
    "TRAINING_BENEFICIARY_PATH = os.path.join(TRAIN_DATA_PATH, \n",
    "    'Train_Beneficiarydata-1542865627584.csv')\n",
    "\n",
    "# Defines the default behavior for responding to values that do not exist in data set\n",
    "DEFAULT_NA_VALUE = \"None\"\n"
   ]
  },
  {
   "cell_type": "code",
   "execution_count": 13,
   "metadata": {},
   "outputs": [],
   "source": [
    "# Read all of the training data\n",
    "train_providers = pandas.read_csv(TRAINING_PROVIDERS_PATH)\n",
    "train_inpatient = pandas.read_csv(TRAINING_INPATIENT_PATH).fillna(DEFAULT_NA_VALUE)\n",
    "train_outpatient = pandas.read_csv(TRAINING_OUTPATIENT_PATH).fillna(DEFAULT_NA_VALUE)\n",
    "train_beneficiary = pandas.read_csv(TRAINING_BENEFICIARY_PATH).fillna(DEFAULT_NA_VALUE)"
   ]
  },
  {
   "cell_type": "code",
   "execution_count": null,
   "metadata": {},
   "outputs": [],
   "source": []
  }
 ]
}